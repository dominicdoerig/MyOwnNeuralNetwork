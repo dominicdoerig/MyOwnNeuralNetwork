{
 "cells": [
  {
   "cell_type": "code",
   "execution_count": 30,
   "metadata": {
    "collapsed": true
   },
   "outputs": [],
   "source": [
    "# Dominic Dörig\n",
    "# 20.01.2018\n",
    "\n",
    "# my best Performance is 97.48%"
   ]
  },
  {
   "cell_type": "code",
   "execution_count": 31,
   "metadata": {
    "collapsed": true
   },
   "outputs": [],
   "source": [
    "# import packages\n",
    "\n",
    "import numpy               # matrices\n",
    "import matplotlib.pyplot   # to plot arrays and matrices\n",
    "% matplotlib inline        \n",
    "import scipy.special       # expit() for the Sigmoid function"
   ]
  },
  {
   "cell_type": "code",
   "execution_count": 32,
   "metadata": {
    "collapsed": true
   },
   "outputs": [],
   "source": [
    "# neural Network class definition\n",
    "\n",
    "class neuralNetwork:\n",
    "    \n",
    "    #initialise \n",
    "    def __init__(self, inputnodes, hiddennodes, outputnodes, learningrate):\n",
    "        self.inodes = inputnodes\n",
    "        self.hnodes = hiddennodes\n",
    "        self.onodes = outputnodes\n",
    "        \n",
    "        # link weight matrices, i: input, h: hidden, o: output\n",
    "        # pow(x,y) = x^y \n",
    "        self.wih = numpy.random.normal(0.0, pow(self.hnodes, -0.5), (self.hnodes, self.inodes))\n",
    "        self.who = numpy.random.normal(0.0, pow(self.onodes, -0.5), (self.onodes, self.hnodes))\n",
    "        \n",
    "        # learning rate\n",
    "        self.lr = learningrate\n",
    "        \n",
    "        # activation function is the sigmoid function\n",
    "        self.activation_function = lambda x: scipy.special.expit(x)\n",
    "        \n",
    "        pass\n",
    "    \n",
    "    \n",
    "    # train the network\n",
    "    def train(self, inputs_list, targets_list):\n",
    "        #convert inputs list to 2d array\n",
    "        inputs = numpy.array(inputs_list, ndmin=2).T\n",
    "        targets = numpy.array(targets_list, ndmin=2).T\n",
    "        \n",
    "        # calculate signals into hidden layer\n",
    "        hidden_inputs = numpy.dot(self.wih, inputs)\n",
    "        \n",
    "        # calculate the signals emerging from hidden layer\n",
    "        hidden_outputs = self.activation_function(hidden_inputs)\n",
    "        \n",
    "        # calculate the signals into final output layer\n",
    "        final_inputs = numpy.dot(self.who, hidden_outputs)\n",
    "        \n",
    "        # calculate the signals emerging from final output layer\n",
    "        final_outputs = self.activation_function(final_inputs)\n",
    "        \n",
    "        # output error is (target - actual)\n",
    "        output_errors = targets - final_outputs\n",
    "        \n",
    "        # hidden layer error is the ouput_errors, split by weights, recombined at hidden nodes\n",
    "        # Formel: Errors_hidden = weights_hidden,output (transponiert) * errors_output\n",
    "        hidden_errors = numpy.dot(self.who.T, output_errors)\n",
    "        \n",
    "        # update the weights for the links between the hidden and output layers\n",
    "        self.who += self.lr*numpy.dot((output_errors * final_outputs * (1.0 - final_outputs)), \n",
    "                                     numpy.transpose(hidden_outputs))\n",
    "        \n",
    "        # update the weights for the links between the input and hidden layers\n",
    "        self.wih += self.lr * numpy.dot((hidden_errors * hidden_outputs * (1.0-hidden_outputs)), \n",
    "                                       numpy.transpose(inputs))\n",
    "    pass\n",
    "    \n",
    "    \n",
    "    # query the neural network\n",
    "    def query(self, inputs_list):\n",
    "        # convert inputs list to 2d array\n",
    "        inputs = numpy.array(inputs_list, ndmin=2).T\n",
    "        \n",
    "        # calculate signals into hidden layer\n",
    "        # Formel: X_hidden = W_input,hidden * I\n",
    "        hidden_inputs = numpy.dot(self.wih, inputs)\n",
    "        \n",
    "        # calculate the signals emerging from hidden layer\n",
    "        hidden_outputs = self.activation_function(hidden_inputs)\n",
    "        \n",
    "        # calculate signals into final output layer\n",
    "        final_inputs = numpy.dot(self.who, hidden_outputs)\n",
    "        \n",
    "        # calculate the signals emerging from final output layer\n",
    "        final_outputs = self.activation_function(final_inputs)\n",
    "        \n",
    "        return final_outputs   \n",
    "    "
   ]
  },
  {
   "cell_type": "code",
   "execution_count": 33,
   "metadata": {
    "collapsed": true
   },
   "outputs": [],
   "source": [
    "# number of input, hidden and output nodes\n",
    "\n",
    "# input_nodes = 28 * 28 = Amount of pixels per scan\n",
    "input_nodes = 784\n",
    "hidden_nodes = 100\n",
    "output_nodes = 10\n",
    "\n",
    "# learning rate\n",
    "learning_rate = 0.12\n",
    "\n",
    "# create instance of neural network\n",
    "n = neuralNetwork(input_nodes,hidden_nodes,output_nodes, learning_rate)"
   ]
  },
  {
   "cell_type": "code",
   "execution_count": 34,
   "metadata": {
    "collapsed": true
   },
   "outputs": [],
   "source": [
    "# load the mnist training data CSV file into a list\n",
    "\n",
    "training_data_file = open(\"C:/Users/dominic.doerig/OneDrive - Accenture/Trainings/Phyton/Neuronal Network/mnist_dataset/mnist_train.csv\", 'r')\n",
    "training_data_list = training_data_file.readlines()\n",
    "training_data_file.close()"
   ]
  },
  {
   "cell_type": "code",
   "execution_count": 41,
   "metadata": {
    "collapsed": true
   },
   "outputs": [],
   "source": [
    "# train the neural network\n",
    "\n",
    "# epochs is the number of times the training data set is used for training\n",
    "epochs = 1\n",
    "\n",
    "for e in range(epochs):\n",
    "    # go through all records in the training data set\n",
    "    for record in training_data_list:\n",
    "        # split the record by the ',' commas\n",
    "        all_values = record.split(',')\n",
    "        # scale and shift the inputs\n",
    "        inputs = (numpy.asfarray(all_values[1:]) / 255.0 * 0.99) + 0.01\n",
    "        # create the target output values (all 0.01, except the desired label which is 0.99)\n",
    "        targets = numpy.zeros(output_nodes) + 0.01\n",
    "        # all_values[0] is the target label for this record\n",
    "        targets[int(all_values[0])] = 0.99\n",
    "        n.train(inputs, targets)\n",
    "        pass\n",
    "    pass\n",
    "    \n",
    "    # Duration of the training: 29sec\n"
   ]
  },
  {
   "cell_type": "code",
   "execution_count": 42,
   "metadata": {
    "collapsed": true
   },
   "outputs": [],
   "source": [
    "# load the mnist test data CSV file into a list\n",
    "test_data_file = open(\"C:/Users/dominic.doerig/OneDrive - Accenture/Trainings/Phyton/Neuronal Network/mnist_dataset/mnist_test.csv\", 'r')\n",
    "test_data_list = test_data_file.readlines()\n",
    "test_data_file.close()\n"
   ]
  },
  {
   "cell_type": "code",
   "execution_count": 43,
   "metadata": {
    "collapsed": true
   },
   "outputs": [],
   "source": [
    "# test the neural network\n",
    "\n",
    "# scorecard for how well the network performs, initially empty\n",
    "scorecard = []\n",
    "\n",
    "# go through all the records in the test data set\n",
    "for record in test_data_list:\n",
    "    # split the record by the ',' commas\n",
    "    all_values = record.split(',')\n",
    "    # correct answer is first value\n",
    "    correct_label = int(all_values[0])\n",
    "    # scale and shift the inputs\n",
    "    inputs = (numpy.asfarray(all_values[1:]) / 255.0 * 0.99) + 0.01\n",
    "    # query the network\n",
    "    outputs = n.query(inputs)\n",
    "    # the index of the highest value corresponds to the label\n",
    "    label = numpy.argmax(outputs)\n",
    "    # append correct or incorrect to list\n",
    "    if (label == correct_label):\n",
    "        # network's answer matches correct answer, add 1 to scorecard\n",
    "        scorecard.append(1)\n",
    "    else:\n",
    "        # network's answer doesn't match correct answer, add 0 to scorecard\n",
    "        scorecard.append(0)\n",
    "        pass\n",
    "    \n",
    "    pass"
   ]
  },
  {
   "cell_type": "code",
   "execution_count": 44,
   "metadata": {},
   "outputs": [
    {
     "name": "stdout",
     "output_type": "stream",
     "text": [
      "performance =  0.9625\n"
     ]
    }
   ],
   "source": [
    "# calculate the performance score, the fraction of correct answers\n",
    "scorecard_array = numpy.asarray(scorecard)\n",
    "print (\"performance = \", scorecard_array.sum() / scorecard_array.size)\n",
    "\n",
    "# Performance =  0.9625"
   ]
  },
  {
   "cell_type": "code",
   "execution_count": 45,
   "metadata": {},
   "outputs": [
    {
     "name": "stdout",
     "output_type": "stream",
     "text": [
      "(array([   8,   38,  111,  115,  217,  247,  259,  290,  320,  321,  340,\n",
      "        381,  412,  445,  448,  449,  479,  495,  543,  551,  582,  583,\n",
      "        610,  629,  646,  658,  659,  684,  691,  707,  717,  720,  740,\n",
      "        810,  844,  890,  924,  939,  947,  956,  965, 1012, 1014, 1039,\n",
      "       1044, 1068, 1107, 1112, 1128, 1156, 1181, 1191, 1192, 1194, 1206,\n",
      "       1226, 1232, 1242, 1247, 1260, 1299, 1319, 1326, 1328, 1337, 1393,\n",
      "       1425, 1444, 1463, 1464, 1494, 1500, 1522, 1530, 1549, 1551, 1581,\n",
      "       1609, 1644, 1678, 1681, 1709, 1717, 1721, 1754, 1790, 1800, 1808,\n",
      "       1855, 1868, 1871, 1878, 1899, 1901, 1911, 1930, 1938, 1941, 1952,\n",
      "       1955, 1968, 1970, 1984, 1987, 2016, 2024, 2035, 2040, 2043, 2044,\n",
      "       2053, 2070, 2073, 2093, 2098, 2109, 2118, 2121, 2130, 2135, 2182,\n",
      "       2185, 2186, 2215, 2224, 2266, 2272, 2293, 2299, 2326, 2369, 2371,\n",
      "       2380, 2387, 2393, 2406, 2414, 2422, 2433, 2462, 2488, 2534, 2574,\n",
      "       2607, 2648, 2654, 2730, 2771, 2797, 2802, 2863, 2896, 2907, 2921,\n",
      "       2927, 2939, 2970, 2995, 3060, 3062, 3073, 3117, 3145, 3157, 3206,\n",
      "       3240, 3254, 3289, 3329, 3330, 3333, 3503, 3520, 3549, 3558, 3559,\n",
      "       3565, 3567, 3573, 3580, 3597, 3626, 3681, 3718, 3751, 3757, 3767,\n",
      "       3776, 3780, 3796, 3801, 3806, 3808, 3811, 3817, 3818, 3821, 3838,\n",
      "       3853, 3893, 3902, 3906, 3941, 3943, 3976, 3995, 4000, 4007, 4063,\n",
      "       4065, 4075, 4093, 4140, 4152, 4154, 4163, 4176, 4199, 4201, 4205,\n",
      "       4211, 4212, 4224, 4238, 4248, 4271, 4289, 4297, 4300, 4306, 4315,\n",
      "       4355, 4356, 4369, 4374, 4427, 4449, 4477, 4498, 4536, 4540, 4571,\n",
      "       4575, 4601, 4615, 4635, 4639, 4690, 4731, 4735, 4751, 4763, 4807,\n",
      "       4814, 4823, 4829, 4837, 4861, 4874, 4879, 4880, 4886, 4890, 4939,\n",
      "       4952, 4956, 4966, 4990, 4995, 5067, 5331, 5457, 5600, 5634, 5642,\n",
      "       5734, 5735, 5749, 5835, 5858, 5887, 5888, 5891, 5906, 5913, 5926,\n",
      "       5936, 5937, 5955, 5972, 5973, 6024, 6035, 6042, 6056, 6059, 6093,\n",
      "       6166, 6172, 6173, 6505, 6555, 6558, 6568, 6571, 6597, 6598, 6625,\n",
      "       6641, 6651, 7216, 7268, 7432, 7434, 7451, 7511, 7619, 7637, 7821,\n",
      "       7849, 7851, 7858, 7886, 7902, 7912, 7915, 7917, 7927, 7945, 8091,\n",
      "       8094, 8196, 8246, 8277, 8339, 8375, 8406, 8408, 8410, 8522, 9009,\n",
      "       9015, 9019, 9024, 9036, 9158, 9202, 9280, 9538, 9587, 9634, 9664,\n",
      "       9679, 9716, 9729, 9744, 9745, 9749, 9768, 9770, 9777, 9779, 9792,\n",
      "       9808, 9811, 9832, 9839, 9858, 9867, 9888, 9905, 9941, 9944, 9980,\n",
      "       9982], dtype=int64),)\n"
     ]
    }
   ],
   "source": [
    "# get index of wrongly recognized numbers\n",
    "index_wrongly_recognized = numpy.where(scorecard_array==0)\n",
    "print(index_wrongly_recognized)"
   ]
  },
  {
   "cell_type": "code",
   "execution_count": 46,
   "metadata": {},
   "outputs": [
    {
     "name": "stdout",
     "output_type": "stream",
     "text": [
      "Real Value: 7\n"
     ]
    },
    {
     "data": {
      "text/plain": [
       "array([[ 0.01036133],\n",
       "       [ 0.67025264],\n",
       "       [ 0.01077513],\n",
       "       [ 0.01855469],\n",
       "       [ 0.01342179],\n",
       "       [ 0.00208832],\n",
       "       [ 0.0008077 ],\n",
       "       [ 0.28151974],\n",
       "       [ 0.01276966],\n",
       "       [ 0.09492423]])"
      ]
     },
     "execution_count": 46,
     "metadata": {},
     "output_type": "execute_result"
    },
    {
     "data": {
      "image/png": "[encoded data removed]",
      "text/plain": [
       "<matplotlib.figure.Figure at 0x24eeb978d30>"
      ]
     },
     "metadata": {},
     "output_type": "display_data"
    }
   ],
   "source": [
    "# query a wrongly recognized numbers\n",
    "\n",
    "# fill in one of the above indexes manually\n",
    "all_values = test_data_list[111].split(',')\n",
    "print(\"Real Value: \" + all_values[0])\n",
    "\n",
    "image_array = numpy.asfarray(all_values[1:]).reshape((28,28))\n",
    "matplotlib.pyplot.imshow(image_array, cmap='Greys', interpolation='None')\n",
    "\n",
    "n.query((numpy.asfarray(all_values[1:])/ 255.0 * 0.99) + 0.01)\n",
    "\n",
    "# output signals:\n",
    "#   1: 0.677\n",
    "#   7: 0.454\n",
    "#   --> algorithm recognize a 1 instead of a 7"
   ]
  },
  {
   "cell_type": "code",
   "execution_count": 47,
   "metadata": {},
   "outputs": [
    {
     "name": "stdout",
     "output_type": "stream",
     "text": [
      "Real Value: 4\n"
     ]
    },
    {
     "data": {
      "text/plain": [
       "array([[ 0.00104624],\n",
       "       [ 0.00378412],\n",
       "       [ 0.0046241 ],\n",
       "       [ 0.00212146],\n",
       "       [ 0.74563821],\n",
       "       [ 0.00302793],\n",
       "       [ 0.01049056],\n",
       "       [ 0.00484523],\n",
       "       [ 0.00253279],\n",
       "       [ 0.8126945 ]])"
      ]
     },
     "execution_count": 47,
     "metadata": {},
     "output_type": "execute_result"
    },
    {
     "data": {
      "image/png": "[encoded data removed]",
      "text/plain": [
       "<matplotlib.figure.Figure at 0x24ee27b8978>"
      ]
     },
     "metadata": {},
     "output_type": "display_data"
    }
   ],
   "source": [
    "# query a wrongly recognized numbers\n",
    "\n",
    "# fill in one of the above indexes manually\n",
    "all_values = test_data_list[115].split(',')\n",
    "print(\"Real Value: \" + all_values[0])\n",
    "\n",
    "image_array = numpy.asfarray(all_values[1:]).reshape((28,28))\n",
    "matplotlib.pyplot.imshow(image_array, cmap='Greys', interpolation='None')\n",
    "\n",
    "n.query((numpy.asfarray(all_values[1:])/ 255.0 * 0.99) + 0.01)\n",
    "\n",
    "# output signals:\n",
    "#   4: 0.225\n",
    "#   6: 0.180\n",
    "#   9: 0.0.562\n",
    "#   --> algorithm recognize a 9 instead of a 4"
   ]
  }
 ],
 "metadata": {
  "kernelspec": {
   "display_name": "Python 3",
   "language": "python",
   "name": "python3"
  },
  "language_info": {
   "codemirror_mode": {
    "name": "ipython",
    "version": 3
   },
   "file_extension": ".py",
   "mimetype": "text/x-python",
   "name": "python",
   "nbconvert_exporter": "python",
   "pygments_lexer": "ipython3",
   "version": "3.6.2"
  }
 },
 "nbformat": 4,
 "nbformat_minor": 2
}

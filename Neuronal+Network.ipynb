{
 "cells": [
  {
   "cell_type": "code",
   "execution_count": 1,
   "metadata": {
    "collapsed": true
   },
   "outputs": [],
   "source": [
    "import numpy               # matrices\n",
    "import matplotlib.pyplot   # to plot arrays and matrices\n",
    "% matplotlib inline        \n",
    "import scipy.special       # expit() for the Sigmoid function"
   ]
  },
  {
   "cell_type": "code",
   "execution_count": 2,
   "metadata": {
    "collapsed": true
   },
   "outputs": [],
   "source": [
    "# neural Network class definition\n",
    "\n",
    "class neuralNetwork:\n",
    "    \n",
    "    #initialise \n",
    "    def __init__(self, inputnodes, hiddennodes, outputnodes, learningrate):\n",
    "        self.inodes = inputnodes\n",
    "        self.hnodes = hiddennodes\n",
    "        self.onodes = outputnodes\n",
    "        \n",
    "        # link weight matrices, wih (input - hidden) and who (hidden - output)\n",
    "        # weights inside the arrays are w_i_j, where link is from node i to node j in the next layer\n",
    "        self.wih = numpy.random.normal(0.0, pow(self.hnodes, -0.5), (self.hnodes, self.inodes))\n",
    "        self.who = numpy.random.normal(0.0, pow(self.onodes, -0.5), (self.onodes, self.hnodes))\n",
    "        \n",
    "        # learning rate\n",
    "        self.lr = learningrate\n",
    "        \n",
    "        # activation function is the sigmoid function\n",
    "        self.activation_function = lambda x: scipy.special.expit(x)\n",
    "        \n",
    "        pass\n",
    "    \n",
    "    \n",
    "    # train the network\n",
    "    def train(self, inputs_list, targets_list):\n",
    "        #convert inputs list to 2d array\n",
    "        inputs = numpy.array(inputs_list, ndmin=2).T\n",
    "        targets = numpy.array(targets_list, ndmin=2).T\n",
    "        \n",
    "        # calculate signals into hidden layer\n",
    "        hidden_inputs = numpy.dot(self.wih, inputs)\n",
    "        \n",
    "        # calculate the signals emerging from hidden layer\n",
    "        hidden_outputs = self.activation_function(hidden_inputs)\n",
    "        \n",
    "        # calculate the signals into final output layer\n",
    "        final_inputs = numpy.dot(self.who, hidden_outputs)\n",
    "        \n",
    "        # calculate the signals emerging from final output layer\n",
    "        final_outputs = self.activation_function(final_inputs)\n",
    "        \n",
    "        # output error is (target - actual)\n",
    "        output_errors = targets - final_outputs\n",
    "        \n",
    "        # hidden layer error is the ouput_errors, split by weights, recombined at hidden nodes\n",
    "        # Formel: Errors_hidden = weights_hidden,output (transponiert) * errors_output\n",
    "        hidden_errors = numpy.dot(self.who.T, output_errors)\n",
    "        \n",
    "        # update the weights for the links between the hidden and output layers\n",
    "        self.who += self.lr*numpy.dot((output_errors * final_outputs * (1.0 - final_outputs)), \n",
    "                                     numpy.transpose(hidden_outputs))\n",
    "        \n",
    "        # update the weights for the links between the input and hidden layers\n",
    "        self.wih += self.lr * numpy.dot((hidden_errors * hidden_outputs * (1.0-hidden_outputs)), \n",
    "                                       numpy.transpose(inputs))\n",
    "    pass\n",
    "    \n",
    "    \n",
    "    # query the neural network\n",
    "    def query(self, inputs_list):\n",
    "        # convert inputs list to 2d array\n",
    "        inputs = numpy.array(inputs_list, ndmin=2).T\n",
    "        \n",
    "        # calculate signals into hidden layer\n",
    "        # Formel: X_hidden = W_input,hidden * I\n",
    "        hidden_inputs = numpy.dot(self.wih, inputs)\n",
    "        \n",
    "        # calculate the signals emerging from hidden layer\n",
    "        hidden_outputs = self.activation_function(hidden_inputs)\n",
    "        \n",
    "        # calculate signals into final output layer\n",
    "        final_inputs = numpy.dot(self.who, hidden_outputs)\n",
    "        \n",
    "        # calculate the signals emerging from final output layer\n",
    "        final_outputs = self.activation_function(final_inputs)\n",
    "        \n",
    "        return final_outputs   \n",
    "    "
   ]
  },
  {
   "cell_type": "code",
   "execution_count": 3,
   "metadata": {
    "collapsed": true
   },
   "outputs": [],
   "source": [
    "# number of input, hidden and output nodes\n",
    "input_nodes = 784\n",
    "hidden_nodes = 100\n",
    "output_nodes = 10\n",
    "\n",
    "# learning rate\n",
    "learning_rate = 0.2\n",
    "\n",
    "# create instance of neural network\n",
    "n = neuralNetwork(input_nodes,hidden_nodes,output_nodes, learning_rate)"
   ]
  },
  {
   "cell_type": "code",
   "execution_count": 4,
   "metadata": {
    "collapsed": true
   },
   "outputs": [],
   "source": [
    "# load the mnist training data CSV file into a list\n",
    "training_data_file = open(\"C:/Users/dominic.doerig/OneDrive - Accenture/Trainings/Phyton/Neuronal Network/mnist_dataset/mnist_train.csv\", 'r')\n",
    "training_data_list = training_data_file.readlines()\n",
    "training_data_file.close()"
   ]
  },
  {
   "cell_type": "code",
   "execution_count": 5,
   "metadata": {
    "collapsed": true
   },
   "outputs": [],
   "source": [
    "# train the neural network\n",
    "\n",
    "# epochs is the number of times the training data set is used for training\n",
    "epochs = 1\n",
    "\n",
    "for e in range(epochs):\n",
    "    # go through all records in the training data set\n",
    "    for record in training_data_list:\n",
    "        # split the record by the ',' commas\n",
    "        all_values = record.split(',')\n",
    "        # scale and shift the inputs\n",
    "        inputs = (numpy.asfarray(all_values[1:]) / 255.0 * 0.99) + 0.01\n",
    "        # create the target output values (all 0.01, except the desired label which is 0.99)\n",
    "        targets = numpy.zeros(output_nodes) + 0.01\n",
    "        # all_values[0] is the target label for this record\n",
    "        targets[int(all_values[0])] = 0.99\n",
    "        n.train(inputs, targets)\n",
    "        pass\n",
    "    pass\n",
    "    \n"
   ]
  },
  {
   "cell_type": "code",
   "execution_count": 6,
   "metadata": {
    "collapsed": true
   },
   "outputs": [],
   "source": [
    "# load the mnist test data CSV file into a list\n",
    "test_data_file = open(\"C:/Users/dominic.doerig/OneDrive - Accenture/Trainings/Phyton/Neuronal Network/mnist_dataset/mnist_test.csv\", 'r')\n",
    "test_data_list = test_data_file.readlines()\n",
    "test_data_file.close()\n"
   ]
  },
  {
   "cell_type": "code",
   "execution_count": 7,
   "metadata": {
    "collapsed": true
   },
   "outputs": [],
   "source": [
    "# test the neural network\n",
    "\n",
    "# scorecard for how well the network performs, initially empty\n",
    "scorecard = []\n",
    "\n",
    "# go through all the records in the test data set\n",
    "for record in test_data_list:\n",
    "    # split the record by the ',' commas\n",
    "    all_values = record.split(',')\n",
    "    # correct answer is first value\n",
    "    correct_label = int(all_values[0])\n",
    "    # scale and shift the inputs\n",
    "    inputs = (numpy.asfarray(all_values[1:]) / 255.0 * 0.99) + 0.01\n",
    "    # query the network\n",
    "    outputs = n.query(inputs)\n",
    "    # the index of the highest value corresponds to the label\n",
    "    label = numpy.argmax(outputs)\n",
    "    # append correct or incorrect to list\n",
    "    if (label == correct_label):\n",
    "        # network's answer matches correct answer, add 1 to scorecard\n",
    "        scorecard.append(1)\n",
    "    else:\n",
    "        # network's answer doesn't match correct answer, add 0 to scorecard\n",
    "        scorecard.append(0)\n",
    "        pass\n",
    "    \n",
    "    pass"
   ]
  },
  {
   "cell_type": "code",
   "execution_count": 8,
   "metadata": {},
   "outputs": [
    {
     "name": "stdout",
     "output_type": "stream",
     "text": [
      "performance =  0.9498\n"
     ]
    }
   ],
   "source": [
    "# calculate the performance score, the fraction of correct answers\n",
    "scorecard_array = numpy.asarray(scorecard)\n",
    "print (\"performance = \", scorecard_array.sum() / scorecard_array.size)\n",
    "\n",
    "\n",
    "# performance =  0.9748"
   ]
  },
  {
   "cell_type": "code",
   "execution_count": 9,
   "metadata": {},
   "outputs": [
    {
     "name": "stdout",
     "output_type": "stream",
     "text": [
      "(array([  38,  111,  115,  119,  149,  217,  241,  244,  247,  259,  290,\n",
      "        320,  321,  340,  381,  403,  444,  445,  448,  449,  460,  468,\n",
      "        479,  495,  522,  551,  565,  582,  583,  591,  605,  610,  629,\n",
      "        646,  659,  684,  691,  707,  717,  720,  740,  795,  810,  846,\n",
      "        924,  926,  938,  939,  947,  950,  951,  965,  990,  998, 1014,\n",
      "       1032, 1039, 1055, 1073, 1107, 1112, 1114, 1119, 1156, 1166, 1173,\n",
      "       1181, 1182, 1191, 1194, 1206, 1226, 1232, 1242, 1247, 1256, 1260,\n",
      "       1270, 1283, 1289, 1310, 1319, 1326, 1328, 1337, 1357, 1393, 1402,\n",
      "       1413, 1433, 1440, 1444, 1494, 1500, 1522, 1530, 1543, 1549, 1551,\n",
      "       1553, 1571, 1581, 1609, 1621, 1634, 1669, 1678, 1681, 1709, 1717,\n",
      "       1718, 1721, 1737, 1754, 1790, 1828, 1839, 1850, 1855, 1868, 1871,\n",
      "       1878, 1899, 1901, 1938, 1941, 1952, 1956, 1968, 1970, 1973, 1982,\n",
      "       1984, 2009, 2016, 2024, 2028, 2035, 2043, 2044, 2053, 2070, 2093,\n",
      "       2098, 2099, 2109, 2118, 2121, 2125, 2129, 2130, 2135, 2138, 2182,\n",
      "       2186, 2189, 2224, 2237, 2272, 2293, 2299, 2305, 2325, 2369, 2371,\n",
      "       2380, 2381, 2387, 2406, 2422, 2425, 2433, 2447, 2462, 2488, 2514,\n",
      "       2589, 2607, 2610, 2631, 2648, 2654, 2698, 2730, 2771, 2810, 2877,\n",
      "       2896, 2905, 2907, 2921, 2925, 2927, 2939, 3005, 3012, 3030, 3060,\n",
      "       3062, 3073, 3098, 3114, 3117, 3130, 3136, 3166, 3206, 3225, 3229,\n",
      "       3240, 3288, 3316, 3319, 3329, 3330, 3333, 3337, 3369, 3405, 3410,\n",
      "       3450, 3503, 3510, 3520, 3549, 3558, 3559, 3567, 3573, 3580, 3597,\n",
      "       3599, 3604, 3626, 3681, 3718, 3730, 3749, 3751, 3758, 3767, 3776,\n",
      "       3780, 3796, 3806, 3808, 3811, 3818, 3821, 3838, 3853, 3862, 3876,\n",
      "       3893, 3902, 3906, 3926, 3941, 3943, 3946, 3976, 3986, 4007, 4017,\n",
      "       4027, 4065, 4068, 4072, 4075, 4078, 4093, 4152, 4159, 4163, 4176,\n",
      "       4199, 4205, 4211, 4212, 4224, 4238, 4248, 4265, 4266, 4271, 4289,\n",
      "       4297, 4300, 4306, 4344, 4355, 4356, 4359, 4369, 4374, 4427, 4435,\n",
      "       4449, 4451, 4477, 4497, 4498, 4500, 4536, 4540, 4567, 4571, 4575,\n",
      "       4578, 4601, 4615, 4639, 4640, 4671, 4690, 4695, 4740, 4751, 4807,\n",
      "       4814, 4823, 4837, 4860, 4874, 4876, 4879, 4880, 4886, 4939, 4943,\n",
      "       4950, 4952, 4956, 4966, 4990, 4995, 5054, 5067, 5068, 5078, 5140,\n",
      "       5176, 5177, 5246, 5331, 5495, 5600, 5601, 5620, 5634, 5642, 5649,\n",
      "       5653, 5678, 5709, 5714, 5734, 5735, 5749, 5835, 5845, 5854, 5858,\n",
      "       5866, 5887, 5888, 5891, 5906, 5913, 5914, 5926, 5934, 5936, 5937,\n",
      "       5955, 5972, 5973, 6027, 6035, 6042, 6059, 6065, 6081, 6091, 6111,\n",
      "       6166, 6172, 6390, 6391, 6425, 6426, 6505, 6555, 6568, 6571, 6574,\n",
      "       6597, 6598, 6599, 6645, 6651, 6706, 6724, 6730, 6740, 6741, 6780,\n",
      "       6783, 6926, 6981, 7035, 7121, 7216, 7268, 7338, 7432, 7434, 7451,\n",
      "       7457, 7492, 7494, 7511, 7539, 7595, 7637, 7732, 7754, 7779, 7797,\n",
      "       7812, 7849, 7858, 7886, 7902, 7905, 7915, 7917, 7945, 8020, 8059,\n",
      "       8062, 8081, 8091, 8094, 8095, 8102, 8112, 8246, 8277, 8318, 8339,\n",
      "       8375, 8406, 8408, 8520, 8522, 9008, 9009, 9010, 9015, 9019, 9024,\n",
      "       9036, 9103, 9110, 9168, 9280, 9482, 9500, 9534, 9587, 9634, 9664,\n",
      "       9679, 9716, 9719, 9729, 9734, 9744, 9745, 9749, 9752, 9768, 9770,\n",
      "       9777, 9779, 9808, 9811, 9832, 9839, 9858, 9867, 9879, 9883, 9888,\n",
      "       9893, 9905, 9925, 9941, 9944, 9980, 9982], dtype=int64),)\n"
     ]
    }
   ],
   "source": [
    "# get index of wrongly recognized numbers\n",
    "index_wrongly_recognized = numpy.where(scorecard_array==0)\n",
    "print(index_wrongly_recognized)"
   ]
  },
  {
   "cell_type": "code",
   "execution_count": 11,
   "metadata": {},
   "outputs": [
    {
     "name": "stdout",
     "output_type": "stream",
     "text": [
      "Wahrer Wert: 5\n"
     ]
    },
    {
     "data": {
      "text/plain": [
       "array([[ 0.10409559],\n",
       "       [ 0.04985155],\n",
       "       [ 0.00634273],\n",
       "       [ 0.05236924],\n",
       "       [ 0.0064845 ],\n",
       "       [ 0.16168448],\n",
       "       [ 0.46311588],\n",
       "       [ 0.00679156],\n",
       "       [ 0.01194889],\n",
       "       [ 0.02313519]])"
      ]
     },
     "execution_count": 11,
     "metadata": {},
     "output_type": "execute_result"
    },
    {
     "data": {
      "image/png": "[encoded data removed]",
      "text/plain": [
       "<matplotlib.figure.Figure at 0x1ca8e5feb38>"
      ]
     },
     "metadata": {},
     "output_type": "display_data"
    }
   ],
   "source": [
    "# query the wrongly recognized numbers\n",
    "all_values = test_data_list[9941].split(',')\n",
    "print(\"Wahrer Wert: \" + all_values[0])\n",
    "\n",
    "image_array = numpy.asfarray(all_values[1:]).reshape((28,28))\n",
    "matplotlib.pyplot.imshow(image_array, cmap='Greys', interpolation='None')\n",
    "\n",
    "n.query((numpy.asfarray(all_values[1:])/ 255.0 * 0.99) + 0.01)"
   ]
  },
  {
   "cell_type": "code",
   "execution_count": null,
   "metadata": {
    "collapsed": true
   },
   "outputs": [],
   "source": []
  },
  {
   "cell_type": "code",
   "execution_count": null,
   "metadata": {
    "collapsed": true
   },
   "outputs": [],
   "source": []
  },
  {
   "cell_type": "code",
   "execution_count": null,
   "metadata": {
    "collapsed": true
   },
   "outputs": [],
   "source": []
  }
 ],
 "metadata": {
  "kernelspec": {
   "display_name": "Python 3",
   "language": "python",
   "name": "python3"
  },
  "language_info": {
   "codemirror_mode": {
    "name": "ipython",
    "version": 3
   },
   "file_extension": ".py",
   "mimetype": "text/x-python",
   "name": "python",
   "nbconvert_exporter": "python",
   "pygments_lexer": "ipython3",
   "version": "3.6.2"
  }
 },
 "nbformat": 4,
 "nbformat_minor": 2
}

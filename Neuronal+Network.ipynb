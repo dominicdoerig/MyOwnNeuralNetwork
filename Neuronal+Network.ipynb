{
 "cells": [
  {
   "cell_type": "code",
   "execution_count": 1,
   "metadata": {
    "collapsed": true
   },
   "outputs": [],
   "source": [
    "# Dominic Dörig\n",
    "# 20.01.2018\n",
    "\n",
    "# my best Performance is 97.48%"
   ]
  },
  {
   "cell_type": "code",
   "execution_count": 2,
   "metadata": {
    "collapsed": true
   },
   "outputs": [],
   "source": [
    "# import packages\n",
    "\n",
    "import numpy               # matrices\n",
    "import matplotlib.pyplot   # to plot arrays and matrices\n",
    "% matplotlib inline        \n",
    "import scipy.special       # expit() for the Sigmoid function"
   ]
  },
  {
   "cell_type": "code",
   "execution_count": 3,
   "metadata": {
    "collapsed": true
   },
   "outputs": [],
   "source": [
    "# neural Network class definition\n",
    "\n",
    "class neuralNetwork:\n",
    "    \n",
    "    #initialise \n",
    "    def __init__(self, inputnodes, hiddennodes, outputnodes, learningrate):\n",
    "        self.inodes = inputnodes\n",
    "        self.hnodes = hiddennodes\n",
    "        self.onodes = outputnodes\n",
    "        \n",
    "        # link weight matrices, i: input, h: hidden, o: output\n",
    "        # pow(x,y) = x^y \n",
    "        self.wih = numpy.random.normal(0.0, pow(self.hnodes, -0.5), (self.hnodes, self.inodes))\n",
    "        self.who = numpy.random.normal(0.0, pow(self.onodes, -0.5), (self.onodes, self.hnodes))\n",
    "        \n",
    "        # learning rate\n",
    "        self.lr = learningrate\n",
    "        \n",
    "        # activation function is the sigmoid function\n",
    "        self.activation_function = lambda x: scipy.special.expit(x)\n",
    "        \n",
    "        pass\n",
    "    \n",
    "    \n",
    "    # train the network\n",
    "    def train(self, inputs_list, targets_list):\n",
    "        #convert inputs list to 2d array\n",
    "        inputs = numpy.array(inputs_list, ndmin=2).T\n",
    "        targets = numpy.array(targets_list, ndmin=2).T\n",
    "        \n",
    "        # calculate signals into hidden layer\n",
    "        hidden_inputs = numpy.dot(self.wih, inputs)\n",
    "        \n",
    "        # calculate the signals emerging from hidden layer\n",
    "        hidden_outputs = self.activation_function(hidden_inputs)\n",
    "        \n",
    "        # calculate the signals into final output layer\n",
    "        final_inputs = numpy.dot(self.who, hidden_outputs)\n",
    "        \n",
    "        # calculate the signals emerging from final output layer\n",
    "        final_outputs = self.activation_function(final_inputs)\n",
    "        \n",
    "        # output error is (target - actual)\n",
    "        output_errors = targets - final_outputs\n",
    "        \n",
    "        # hidden layer error is the ouput_errors, split by weights, recombined at hidden nodes\n",
    "        # Formel: Errors_hidden = weights_hidden,output (transponiert) * errors_output\n",
    "        hidden_errors = numpy.dot(self.who.T, output_errors)\n",
    "        \n",
    "        # update the weights for the links between the hidden and output layers\n",
    "        self.who += self.lr*numpy.dot((output_errors * final_outputs * (1.0 - final_outputs)), \n",
    "                                     numpy.transpose(hidden_outputs))\n",
    "        \n",
    "        # update the weights for the links between the input and hidden layers\n",
    "        self.wih += self.lr * numpy.dot((hidden_errors * hidden_outputs * (1.0-hidden_outputs)), \n",
    "                                       numpy.transpose(inputs))\n",
    "    pass\n",
    "    \n",
    "    \n",
    "    # query the neural network\n",
    "    def query(self, inputs_list):\n",
    "        # convert inputs list to 2d array\n",
    "        inputs = numpy.array(inputs_list, ndmin=2).T\n",
    "        \n",
    "        # calculate signals into hidden layer\n",
    "        # Formel: X_hidden = W_input,hidden * I\n",
    "        hidden_inputs = numpy.dot(self.wih, inputs)\n",
    "        \n",
    "        # calculate the signals emerging from hidden layer\n",
    "        hidden_outputs = self.activation_function(hidden_inputs)\n",
    "        \n",
    "        # calculate signals into final output layer\n",
    "        final_inputs = numpy.dot(self.who, hidden_outputs)\n",
    "        \n",
    "        # calculate the signals emerging from final output layer\n",
    "        final_outputs = self.activation_function(final_inputs)\n",
    "        \n",
    "        return final_outputs   \n",
    "    "
   ]
  },
  {
   "cell_type": "code",
   "execution_count": 4,
   "metadata": {
    "collapsed": true
   },
   "outputs": [],
   "source": [
    "# number of input, hidden and output nodes\n",
    "\n",
    "# input_nodes = 28 * 28 = Amount of pixels per scan\n",
    "input_nodes = 784\n",
    "hidden_nodes = 100\n",
    "output_nodes = 10\n",
    "\n",
    "# learning rate\n",
    "learning_rate = 0.12\n",
    "\n",
    "# create instance of neural network\n",
    "n = neuralNetwork(input_nodes,hidden_nodes,output_nodes, learning_rate)"
   ]
  },
  {
   "cell_type": "code",
   "execution_count": 5,
   "metadata": {
    "collapsed": true
   },
   "outputs": [],
   "source": [
    "# load the mnist training data CSV file into a list\n",
    "\n",
    "training_data_file = open(\"C:/Users/dominic.doerig/OneDrive - Accenture/Trainings/Phyton/Neuronal Network/mnist_dataset/mnist_train.csv\", 'r')\n",
    "training_data_list = training_data_file.readlines()\n",
    "training_data_file.close()"
   ]
  },
  {
   "cell_type": "code",
   "execution_count": 6,
   "metadata": {
    "collapsed": true
   },
   "outputs": [],
   "source": [
    "# train the neural network\n",
    "\n",
    "# epochs is the number of times the training data set is used for training\n",
    "epochs = 1\n",
    "\n",
    "for e in range(epochs):\n",
    "    # go through all records in the training data set\n",
    "    for record in training_data_list:\n",
    "        # split the record by the ',' commas\n",
    "        all_values = record.split(',')\n",
    "        # scale and shift the inputs\n",
    "        inputs = (numpy.asfarray(all_values[1:]) / 255.0 * 0.99) + 0.01\n",
    "        # create the target output values (all 0.01, except the desired label which is 0.99)\n",
    "        targets = numpy.zeros(output_nodes) + 0.01\n",
    "        # all_values[0] is the target label for this record\n",
    "        targets[int(all_values[0])] = 0.99\n",
    "        n.train(inputs, targets)\n",
    "        pass\n",
    "    pass\n",
    "    \n",
    "    # Duration of the training: 29sec\n"
   ]
  },
  {
   "cell_type": "code",
   "execution_count": 7,
   "metadata": {
    "collapsed": true
   },
   "outputs": [],
   "source": [
    "# load the mnist test data CSV file into a list\n",
    "test_data_file = open(\"C:/Users/dominic.doerig/OneDrive - Accenture/Trainings/Phyton/Neuronal Network/mnist_dataset/mnist_test.csv\", 'r')\n",
    "test_data_list = test_data_file.readlines()\n",
    "test_data_file.close()\n"
   ]
  },
  {
   "cell_type": "code",
   "execution_count": 8,
   "metadata": {
    "collapsed": true
   },
   "outputs": [],
   "source": [
    "# test the neural network\n",
    "\n",
    "# scorecard for how well the network performs, initially empty\n",
    "scorecard = []\n",
    "\n",
    "# go through all the records in the test data set\n",
    "for record in test_data_list:\n",
    "    # split the record by the ',' commas\n",
    "    all_values = record.split(',')\n",
    "    # correct answer is first value\n",
    "    correct_label = int(all_values[0])\n",
    "    # scale and shift the inputs\n",
    "    inputs = (numpy.asfarray(all_values[1:]) / 255.0 * 0.99) + 0.01\n",
    "    # query the network\n",
    "    outputs = n.query(inputs)\n",
    "    # the index of the highest value corresponds to the label\n",
    "    label = numpy.argmax(outputs)\n",
    "    # append correct or incorrect to list\n",
    "    if (label == correct_label):\n",
    "        # network's answer matches correct answer, add 1 to scorecard\n",
    "        scorecard.append(1)\n",
    "    else:\n",
    "        # network's answer doesn't match correct answer, add 0 to scorecard\n",
    "        scorecard.append(0)\n",
    "        pass\n",
    "    \n",
    "    pass"
   ]
  },
  {
   "cell_type": "code",
   "execution_count": 9,
   "metadata": {},
   "outputs": [
    {
     "name": "stdout",
     "output_type": "stream",
     "text": [
      "performance =  0.9533\n"
     ]
    }
   ],
   "source": [
    "# calculate the performance score, the fraction of correct answers\n",
    "scorecard_array = numpy.asarray(scorecard)\n",
    "print (\"performance = \", scorecard_array.sum() / scorecard_array.size)\n",
    "\n",
    "# Performance =  0.9533"
   ]
  },
  {
   "cell_type": "code",
   "execution_count": 10,
   "metadata": {},
   "outputs": [
    {
     "name": "stdout",
     "output_type": "stream",
     "text": [
      "(array([   8,  149,  211,  217,  247,  259,  290,  320,  321,  340,  352,\n",
      "        362,  445,  449,  502,  543,  551,  565,  571,  582,  613,  629,\n",
      "        646,  658,  659,  684,  691,  707,  717,  720,  740,  741,  760,\n",
      "        810,  844,  846,  938,  939,  947,  950,  951,  956,  965, 1003,\n",
      "       1014, 1039, 1044, 1073, 1096, 1107, 1112, 1173, 1181, 1182, 1191,\n",
      "       1192, 1194, 1198, 1204, 1206, 1226, 1232, 1242, 1247, 1256, 1260,\n",
      "       1270, 1283, 1289, 1299, 1319, 1326, 1328, 1337, 1378, 1393, 1433,\n",
      "       1440, 1466, 1467, 1494, 1500, 1522, 1527, 1530, 1549, 1551, 1553,\n",
      "       1571, 1581, 1584, 1609, 1634, 1678, 1681, 1709, 1717, 1718, 1721,\n",
      "       1754, 1761, 1790, 1813, 1839, 1850, 1878, 1901, 1938, 1941, 1952,\n",
      "       1970, 1984, 2016, 2024, 2040, 2043, 2044, 2053, 2070, 2093, 2098,\n",
      "       2109, 2118, 2121, 2130, 2135, 2148, 2182, 2185, 2186, 2189, 2224,\n",
      "       2266, 2272, 2293, 2299, 2325, 2369, 2371, 2387, 2394, 2406, 2408,\n",
      "       2414, 2422, 2425, 2447, 2488, 2514, 2526, 2539, 2574, 2598, 2607,\n",
      "       2610, 2631, 2648, 2654, 2713, 2715, 2730, 2771, 2780, 2810, 2863,\n",
      "       2877, 2896, 2905, 2907, 2921, 2925, 2927, 2939, 2945, 2952, 2953,\n",
      "       2990, 2995, 3030, 3062, 3073, 3114, 3117, 3132, 3136, 3145, 3157,\n",
      "       3166, 3206, 3225, 3240, 3260, 3262, 3269, 3288, 3289, 3329, 3330,\n",
      "       3333, 3376, 3384, 3405, 3490, 3503, 3520, 3549, 3558, 3559, 3567,\n",
      "       3573, 3597, 3604, 3626, 3681, 3702, 3716, 3718, 3726, 3730, 3751,\n",
      "       3757, 3767, 3776, 3780, 3796, 3806, 3808, 3811, 3817, 3818, 3838,\n",
      "       3848, 3853, 3855, 3862, 3893, 3902, 3906, 3926, 3941, 3946, 3954,\n",
      "       3976, 3995, 4007, 4017, 4063, 4065, 4075, 4078, 4093, 4102, 4140,\n",
      "       4152, 4156, 4163, 4176, 4199, 4201, 4205, 4212, 4224, 4238, 4248,\n",
      "       4289, 4297, 4300, 4306, 4315, 4355, 4356, 4369, 4374, 4380, 4382,\n",
      "       4433, 4435, 4477, 4497, 4498, 4540, 4567, 4575, 4578, 4601, 4615,\n",
      "       4639, 4690, 4695, 4731, 4751, 4761, 4807, 4814, 4823, 4837, 4838,\n",
      "       4860, 4861, 4863, 4876, 4879, 4880, 4886, 4915, 4939, 4956, 4966,\n",
      "       4978, 4981, 4990, 4995, 4997, 5054, 5067, 5078, 5140, 5159, 5177,\n",
      "       5331, 5457, 5564, 5600, 5620, 5634, 5642, 5649, 5654, 5663, 5688,\n",
      "       5709, 5714, 5734, 5735, 5749, 5835, 5845, 5854, 5858, 5866, 5887,\n",
      "       5888, 5891, 5906, 5913, 5914, 5926, 5936, 5955, 5972, 5973, 5982,\n",
      "       6035, 6045, 6059, 6065, 6071, 6166, 6347, 6386, 6390, 6391, 6392,\n",
      "       6426, 6505, 6511, 6555, 6564, 6568, 6571, 6574, 6597, 6598, 6603,\n",
      "       6625, 6645, 6651, 6741, 6769, 6783, 7032, 7121, 7216, 7268, 7320,\n",
      "       7432, 7434, 7451, 7539, 7545, 7732, 7779, 7797, 7812, 7849, 7850,\n",
      "       7858, 7886, 7899, 7902, 7905, 7915, 7927, 7928, 7945, 7990, 8020,\n",
      "       8062, 8091, 8094, 8246, 8277, 8339, 8375, 8406, 8408, 8410, 8453,\n",
      "       8502, 8520, 8522, 8527, 8639, 8863, 9009, 9010, 9015, 9019, 9024,\n",
      "       9036, 9045, 9139, 9168, 9280, 9463, 9482, 9534, 9587, 9634, 9679,\n",
      "       9716, 9719, 9726, 9729, 9734, 9744, 9745, 9749, 9751, 9752, 9768,\n",
      "       9770, 9777, 9779, 9808, 9811, 9839, 9867, 9883, 9905, 9919, 9941,\n",
      "       9944, 9954, 9980, 9982, 9993], dtype=int64),)\n"
     ]
    }
   ],
   "source": [
    "# get index of wrongly recognized numbers\n",
    "index_wrongly_recognized = numpy.where(scorecard_array==0)\n",
    "print(index_wrongly_recognized)"
   ]
  },
  {
   "cell_type": "code",
   "execution_count": 14,
   "metadata": {},
   "outputs": [
    {
     "name": "stdout",
     "output_type": "stream",
     "text": [
      "Real Value: 6\n"
     ]
    },
    {
     "data": {
      "text/plain": [
       "array([[  8.30838581e-01],\n",
       "       [  2.85153211e-03],\n",
       "       [  5.65595767e-04],\n",
       "       [  2.36027431e-03],\n",
       "       [  5.08974074e-03],\n",
       "       [  2.74418483e-03],\n",
       "       [  4.63589996e-01],\n",
       "       [  1.70802155e-02],\n",
       "       [  4.38583672e-02],\n",
       "       [  2.51608958e-03]])"
      ]
     },
     "execution_count": 14,
     "metadata": {},
     "output_type": "execute_result"
    },
    {
     "data": {
      "image/png": "[encoded data removed]",
      "text/plain": [
       "<matplotlib.figure.Figure at 0x23e55fea9e8>"
      ]
     },
     "metadata": {},
     "output_type": "display_data"
    }
   ],
   "source": [
    "# query a wrongly recognized numbers\n",
    "\n",
    "# fill in one of the above indexes manually\n",
    "all_values = test_data_list[259].split(',')\n",
    "print(\"Real Value: \" + all_values[0])\n",
    "\n",
    "image_array = numpy.asfarray(all_values[1:]).reshape((28,28))\n",
    "matplotlib.pyplot.imshow(image_array, cmap='Greys', interpolation='None')\n",
    "\n",
    "n.query((numpy.asfarray(all_values[1:])/ 255.0 * 0.99) + 0.01)\n",
    "\n",
    "# output signals:\n",
    "#   0: 0.831\n",
    "#   6: 0.464\n",
    "#   --> algorithm recognize a 0 instead of a 6"
   ]
  },
  {
   "cell_type": "code",
   "execution_count": 16,
   "metadata": {},
   "outputs": [
    {
     "name": "stdout",
     "output_type": "stream",
     "text": [
      "Real Value: 9\n"
     ]
    },
    {
     "data": {
      "text/plain": [
       "array([[  2.07971764e-03],\n",
       "       [  5.32765924e-01],\n",
       "       [  2.73020680e-04],\n",
       "       [  1.73061409e-02],\n",
       "       [  1.24072309e-03],\n",
       "       [  2.89518265e-03],\n",
       "       [  2.52211084e-03],\n",
       "       [  2.63398494e-01],\n",
       "       [  1.27675775e-02],\n",
       "       [  3.77249248e-01]])"
      ]
     },
     "execution_count": 16,
     "metadata": {},
     "output_type": "execute_result"
    },
    {
     "data": {
      "image/png": "[encoded data removed]",
      "text/plain": [
       "<matplotlib.figure.Figure at 0x23e561ddf60>"
      ]
     },
     "metadata": {},
     "output_type": "display_data"
    }
   ],
   "source": [
    "# query a wrongly recognized numbers\n",
    "\n",
    "# fill in one of the above indexes manually\n",
    "all_values = test_data_list[320].split(',')\n",
    "print(\"Real Value: \" + all_values[0])\n",
    "\n",
    "image_array = numpy.asfarray(all_values[1:]).reshape((28,28))\n",
    "matplotlib.pyplot.imshow(image_array, cmap='Greys', interpolation='None')\n",
    "\n",
    "n.query((numpy.asfarray(all_values[1:])/ 255.0 * 0.99) + 0.01)\n",
    "\n",
    "# output signals:\n",
    "#   1: 0.533\n",
    "#   7: 0.263\n",
    "#   9: 0.377\n",
    "#   --> algorithm recognize a 1 instead of a 9"
   ]
  }
 ],
 "metadata": {
  "kernelspec": {
   "display_name": "Python 3",
   "language": "python",
   "name": "python3"
  },
  "language_info": {
   "codemirror_mode": {
    "name": "ipython",
    "version": 3
   },
   "file_extension": ".py",
   "mimetype": "text/x-python",
   "name": "python",
   "nbconvert_exporter": "python",
   "pygments_lexer": "ipython3",
   "version": "3.6.2"
  }
 },
 "nbformat": 4,
 "nbformat_minor": 2
}
